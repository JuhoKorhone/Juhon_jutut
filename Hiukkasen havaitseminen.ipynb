{
 "cells": [
  {
   "cell_type": "code",
   "execution_count": null,
   "metadata": {},
   "outputs": [],
   "source": [
    "#otetaan käyttöön datan käsittelyyn tarvittavat paketit\n",
    "import pandas as pd\n",
    "import matplotlib.pyplot as plt"
   ]
  },
  {
   "cell_type": "code",
   "execution_count": null,
   "metadata": {},
   "outputs": [],
   "source": [
    "#Haetaan CERNin sivustolta haluttu csv-tiedosto ja nimetään se\n",
    "data = pd.read_csv('https://opendata.cern.ch/record/304/files/dielectron.csv')"
   ]
  },
  {
   "cell_type": "code",
   "execution_count": null,
   "metadata": {},
   "outputs": [],
   "source": [
    "#Katsotaan, mitä tiedosto pitää sisällään\n",
    "data.head()"
   ]
  },
  {
   "cell_type": "code",
   "execution_count": null,
   "metadata": {},
   "outputs": [],
   "source": [
    "#Piirretään histogrammi, jossa vaaka-akselilla on havaittujen hiukkasten massat ja pystyakselilla tietyn massaisten hiukkasten lukumäärä\n",
    "massat = data['M']\n",
    "plt.hist(massat, bins=100)\n",
    "plt.title('Havaittujen hiukkasten massajakauma')\n",
    "plt.xlabel('Massa (GeV)')\n",
    "plt.show()"
   ]
  }
 ],
 "metadata": {
  "kernelspec": {
   "display_name": "Python 3",
   "language": "python",
   "name": "python3"
  },
  "language_info": {
   "codemirror_mode": {
    "name": "ipython",
    "version": 3
   },
   "file_extension": ".py",
   "mimetype": "text/x-python",
   "name": "python",
   "nbconvert_exporter": "python",
   "pygments_lexer": "ipython3",
   "version": "3.8.5"
  }
 },
 "nbformat": 4,
 "nbformat_minor": 4
}
